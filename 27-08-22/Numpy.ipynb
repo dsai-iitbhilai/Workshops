{
  "nbformat": 4,
  "nbformat_minor": 0,
  "metadata": {
    "colab": {
      "name": "Numpy.ipynb",
      "provenance": []
    },
    "kernelspec": {
      "name": "python3",
      "display_name": "Python 3"
    },
    "language_info": {
      "name": "python"
    }
  },
  "cells": [
    {
      "cell_type": "markdown",
      "source": [
        "# Introduction\n",
        "\n",
        "In this notebook we'll learn how to use NumPy to work with numerical data. \n",
        "\n",
        "<img src=\"https://i.imgur.com/dZ1XE9o.png\" width=400>"
      ],
      "metadata": {
        "id": "EK4tT97ZG68P"
      }
    },
    {
      "cell_type": "markdown",
      "source": [
        "# Import Statements"
      ],
      "metadata": {
        "id": "JUC9GepZG9kW"
      }
    },
    {
      "cell_type": "code",
      "execution_count": null,
      "metadata": {
        "id": "5OGBkuB-GsjY"
      },
      "outputs": [],
      "source": [
        "import numpy as np\n",
        "\n",
        "import matplotlib.pyplot as plt # A library for plotting reading images"
      ]
    },
    {
      "cell_type": "markdown",
      "source": [
        "# Understanding NumPy's ndarray\n",
        "\n",
        "NumPy's most amazing feature is the **powerful** ndarray.\n",
        "\n",
        "<img src=\"https://miro.medium.com/max/1400/1*X0Dg7QfSYtWhSAu-afi8-g.png\" width=500>"
      ],
      "metadata": {
        "id": "abquQpU8HVeK"
      }
    },
    {
      "cell_type": "markdown",
      "source": [
        "#### 1-Dimensional Arrays (Vectors)"
      ],
      "metadata": {
        "id": "yTHm2NHUHjT0"
      }
    },
    {
      "cell_type": "code",
      "source": [
        "# Create new ndarray from scatch\n",
        "my_array = np.array([1.1, 9.2, 8.1, 4.7])"
      ],
      "metadata": {
        "id": "R94beYuAHB3M"
      },
      "execution_count": null,
      "outputs": []
    },
    {
      "cell_type": "code",
      "source": [
        "# Show rows and columns\n",
        "my_array.shape"
      ],
      "metadata": {
        "colab": {
          "base_uri": "https://localhost:8080/"
        },
        "id": "I-IAygfSHl9q",
        "outputId": "022bb344-31c5-4643-8296-5085041002d6"
      },
      "execution_count": null,
      "outputs": [
        {
          "output_type": "execute_result",
          "data": {
            "text/plain": [
              "(4,)"
            ]
          },
          "metadata": {},
          "execution_count": 52
        }
      ]
    },
    {
      "cell_type": "code",
      "source": [
        "# Accessing elements by index\n",
        "my_array[2]"
      ],
      "metadata": {
        "colab": {
          "base_uri": "https://localhost:8080/"
        },
        "id": "Lc6DPKeGHn3y",
        "outputId": "77fcbaec-4f3e-4441-f4f3-e192c526e996"
      },
      "execution_count": null,
      "outputs": [
        {
          "output_type": "execute_result",
          "data": {
            "text/plain": [
              "8.1"
            ]
          },
          "metadata": {},
          "execution_count": 53
        }
      ]
    },
    {
      "cell_type": "code",
      "source": [
        "# Show dimensions of an array\n",
        "my_array.ndim"
      ],
      "metadata": {
        "colab": {
          "base_uri": "https://localhost:8080/"
        },
        "id": "utRqDw1aHpq6",
        "outputId": "036aa583-37f6-41f6-dd3e-57ace4a8b34e"
      },
      "execution_count": null,
      "outputs": [
        {
          "output_type": "execute_result",
          "data": {
            "text/plain": [
              "1"
            ]
          },
          "metadata": {},
          "execution_count": 54
        }
      ]
    },
    {
      "cell_type": "markdown",
      "source": [
        "#### 2-Dimensional Arrays (Matrices)"
      ],
      "metadata": {
        "id": "afSQtEp-HuwK"
      }
    },
    {
      "cell_type": "code",
      "source": [
        "array_2d = np.array([[1, 2, 3, 9], \n",
        "                     [5, 6, 7, 8]])\n",
        "\n",
        "print(f'array_2d has {array_2d.ndim} dimensions')\n",
        "print(f'Its shape is {array_2d.shape}')\n",
        "print(f'It has {array_2d.shape[0]} rows and {array_2d.shape[1]} columns')\n",
        "print(array_2d)"
      ],
      "metadata": {
        "colab": {
          "base_uri": "https://localhost:8080/"
        },
        "id": "Wjlt9oekHrj6",
        "outputId": "fe14c15f-b6c8-4676-f0f5-42acd301649d"
      },
      "execution_count": null,
      "outputs": [
        {
          "output_type": "stream",
          "name": "stdout",
          "text": [
            "array_2d has 2 dimensions\n",
            "Its shape is (2, 4)\n",
            "It has 2 rows and 4 columns\n",
            "[[1 2 3 9]\n",
            " [5 6 7 8]]\n"
          ]
        }
      ]
    },
    {
      "cell_type": "code",
      "source": [
        "# Access the 3rd value in the 2nd row\n",
        "array_2d[1,2]"
      ],
      "metadata": {
        "colab": {
          "base_uri": "https://localhost:8080/"
        },
        "id": "mZvbTMzVHxLy",
        "outputId": "009b2514-3667-42d0-cb38-792cf52e4116"
      },
      "execution_count": null,
      "outputs": [
        {
          "output_type": "execute_result",
          "data": {
            "text/plain": [
              "7"
            ]
          },
          "metadata": {},
          "execution_count": 56
        }
      ]
    },
    {
      "cell_type": "code",
      "source": [
        "# Access all the values in the first row\n",
        "array_2d[0, :]"
      ],
      "metadata": {
        "colab": {
          "base_uri": "https://localhost:8080/"
        },
        "id": "kjSidlFTH8_6",
        "outputId": "8a88cf84-5395-4e9a-9243-d93691ed008b"
      },
      "execution_count": null,
      "outputs": [
        {
          "output_type": "execute_result",
          "data": {
            "text/plain": [
              "array([1, 2, 3, 9])"
            ]
          },
          "metadata": {},
          "execution_count": 57
        }
      ]
    },
    {
      "cell_type": "markdown",
      "source": [
        "#### N-Dimensional Arrays (Tensors)\n",
        "\n",
        "**Challenge**: \n",
        "* How many dimensions does the array below have? \n",
        "* What is its shape (i.e., how many elements are along each axis)?\n",
        "* Try to access the value `18` in the last line of code.\n",
        "* Try to retrieve a 1 dimensional vector with the values `[97, 0, 27, 18]`\n",
        "* Try to retrieve a (3,2) matrix with the values `[[ 0,  4], [ 7,  5], [ 5, 97]]`\n",
        "\n",
        "*Hint*: You can use the `:` operator just as with Python Lists."
      ],
      "metadata": {
        "id": "u12C9tEIIGoA"
      }
    },
    {
      "cell_type": "code",
      "source": [
        "mystery_array = np.array([[[0, 1, 2, 3],\n",
        "                           [4, 5, 6, 7]],\n",
        "                        \n",
        "                         [[7, 86, 6, 98],\n",
        "                          [5, 1, 0, 4]],\n",
        "                          \n",
        "                          [[5, 36, 32, 48],\n",
        "                           [97, 0, 27, 18]]])\n",
        "\n",
        "# Note all the square brackets!"
      ],
      "metadata": {
        "id": "UBdFM2zsH-OS"
      },
      "execution_count": null,
      "outputs": []
    },
    {
      "cell_type": "code",
      "source": [
        "print(f'We have {mystery_array.ndim} dimensions')\n",
        "print(f'The shape is {mystery_array.shape}')"
      ],
      "metadata": {
        "colab": {
          "base_uri": "https://localhost:8080/"
        },
        "id": "miWRX4gXILd7",
        "outputId": "42c55a7f-7e7d-4d87-b466-227c0f5fea09"
      },
      "execution_count": null,
      "outputs": [
        {
          "output_type": "stream",
          "name": "stdout",
          "text": [
            "We have 3 dimensions\n",
            "The shape is (3, 2, 4)\n"
          ]
        }
      ]
    },
    {
      "cell_type": "code",
      "source": [
        "# Axis 0: 3rd element. Axis 1: 2nd Element. Axis 3: 4th Element\n",
        "mystery_array[2, 1, 3]"
      ],
      "metadata": {
        "colab": {
          "base_uri": "https://localhost:8080/"
        },
        "id": "N9SFdHIQIVxj",
        "outputId": "8099adfd-e2d6-4c28-f514-e6c08f97a363"
      },
      "execution_count": null,
      "outputs": [
        {
          "output_type": "execute_result",
          "data": {
            "text/plain": [
              "18"
            ]
          },
          "metadata": {},
          "execution_count": 60
        }
      ]
    },
    {
      "cell_type": "code",
      "source": [
        "# Retrieve all the elements on the 3rd axis that are at\n",
        "# position 2 on the first axis and position 1 on the second axis.\n",
        "mystery_array[2, 1, :]"
      ],
      "metadata": {
        "colab": {
          "base_uri": "https://localhost:8080/"
        },
        "id": "iKDFdtZCI4BL",
        "outputId": "364c82f8-1e62-4052-a3f8-9b80e5a1cd4c"
      },
      "execution_count": null,
      "outputs": [
        {
          "output_type": "execute_result",
          "data": {
            "text/plain": [
              "array([97,  0, 27, 18])"
            ]
          },
          "metadata": {},
          "execution_count": 61
        }
      ]
    },
    {
      "cell_type": "code",
      "source": [
        "# All the first elements on axis number 3\n",
        "mystery_array[:, :, 0]"
      ],
      "metadata": {
        "colab": {
          "base_uri": "https://localhost:8080/"
        },
        "id": "YiBEkmYkJoFL",
        "outputId": "c286a61a-0879-475d-f291-b1cd944caa57"
      },
      "execution_count": null,
      "outputs": [
        {
          "output_type": "execute_result",
          "data": {
            "text/plain": [
              "array([[ 0,  4],\n",
              "       [ 7,  5],\n",
              "       [ 5, 97]])"
            ]
          },
          "metadata": {},
          "execution_count": 62
        }
      ]
    },
    {
      "cell_type": "markdown",
      "source": [
        "# NumPy Mini-Challenges"
      ],
      "metadata": {
        "id": "E2Losi7BK4UV"
      }
    },
    {
      "cell_type": "markdown",
      "source": [
        "#### **Challenge 1**: Use [`.arange()`](https://numpy.org/devdocs/reference/generated/numpy.arange.html)to createa a vector `a` with values ranging from 10 to 29. You should get this:\n",
        "\n",
        "`print(a)`\n",
        "\n",
        "`[10 11 12 13 14 15 16 17 18 19 20 21 22 23 24 25 26 27 28 29]`"
      ],
      "metadata": {
        "id": "yPX6IUI7K7Kr"
      }
    },
    {
      "cell_type": "code",
      "source": [],
      "metadata": {
        "id": "W_abYnMOLyJr"
      },
      "execution_count": null,
      "outputs": []
    },
    {
      "cell_type": "markdown",
      "source": [
        "#### **Challenge 2**: Use Python slicing techniques on `a` to:\n",
        "* Create an array containing only the last 3 values of `a`\n",
        "* Create a subset with only the 4th, 5th, and 6th values\n",
        "* Create a subset of `a` containing all the values except for the first 12 (i.e., `[22, 23, 24, 25, 26, 27, 28, 29]`)\n",
        "* Create a subset that only contains the even numbers (i.e, every second number)\n",
        "\n",
        "Remember the list we have studied a[start:stop:step]"
      ],
      "metadata": {
        "id": "oXl6C_RcL3y6"
      }
    },
    {
      "cell_type": "code",
      "source": [],
      "metadata": {
        "id": "t7l2I4fBMsly"
      },
      "execution_count": null,
      "outputs": []
    },
    {
      "cell_type": "markdown",
      "source": [
        "#### **Challenge 3**:Reverse the order of the values in `a`, so that the first element comes last:\n",
        "\n",
        "`[29, 28, 27, 26, 25, 24, 23, 22, 21, 20, 19, 18, 17, 16, 15, 14, 13,\n",
        "       12, 11, 10]`\n"
      ],
      "metadata": {
        "id": "cSNlkyapNKAr"
      }
    },
    {
      "cell_type": "code",
      "source": [],
      "metadata": {
        "id": "O28mXXXENNrD"
      },
      "execution_count": null,
      "outputs": []
    },
    {
      "cell_type": "markdown",
      "source": [
        "#### **Challenge 4**: Print out all the indices of the non-zero elements in this array: [6,0,9,0,0,5,0]"
      ],
      "metadata": {
        "id": "d-4ILbDXNc_E"
      }
    },
    {
      "cell_type": "code",
      "source": [],
      "metadata": {
        "id": "GaSVHqugNPC6"
      },
      "execution_count": null,
      "outputs": []
    },
    {
      "cell_type": "code",
      "source": [],
      "metadata": {
        "id": "rj8tiyF-Ntsi"
      },
      "execution_count": null,
      "outputs": []
    },
    {
      "cell_type": "markdown",
      "source": [
        "#### **Challenge 5**: Use NumPy to generate a 3x3x3 array with random numbers\n",
        "\n",
        "Hint: Use the [`.random()` function](https://numpy.org/doc/stable/reference/random/generated/numpy.random.rand.html)"
      ],
      "metadata": {
        "id": "XcLnRaiROCPb"
      }
    },
    {
      "cell_type": "code",
      "source": [],
      "metadata": {
        "id": "_wNiNGi9ODFb"
      },
      "execution_count": null,
      "outputs": []
    },
    {
      "cell_type": "markdown",
      "source": [
        "#### **Challenge 6**: Use [`.linspace()`](https://numpy.org/doc/stable/reference/generated/numpy.linspace.html) to create a vector `x` of size 9 with values spaced out evenly between 0 to 100 (both included)."
      ],
      "metadata": {
        "id": "hHzkF3b8RWGg"
      }
    },
    {
      "cell_type": "code",
      "source": [],
      "metadata": {
        "id": "NsvW3-zkOFBa"
      },
      "execution_count": null,
      "outputs": []
    },
    {
      "cell_type": "markdown",
      "source": [
        "#### **Challenge 8**: Use NumPy to generate an array called `noise` with shape 128x128x3 that has random values. Then use Matplotlib's [`.imshow()`](https://matplotlib.org/3.1.1/api/_as_gen/matplotlib.pyplot.imshow.html) to display the array as an image. "
      ],
      "metadata": {
        "id": "av9H7mrzRfps"
      }
    },
    {
      "cell_type": "code",
      "source": [],
      "metadata": {
        "id": "Iwq-ndDkR5LG"
      },
      "execution_count": null,
      "outputs": []
    },
    {
      "cell_type": "code",
      "source": [],
      "metadata": {
        "id": "nA8E6nrLSQIP"
      },
      "execution_count": null,
      "outputs": []
    },
    {
      "cell_type": "markdown",
      "source": [
        "# Linear Algebra with Vectors"
      ],
      "metadata": {
        "id": "yy9wcKFgSXWG"
      }
    },
    {
      "cell_type": "code",
      "source": [
        "v1 = np.array([4, 5, 2, 7])\n",
        "v2 = np.array([2, 1, 3, 3])"
      ],
      "metadata": {
        "id": "nRyBzS7ESYPH"
      },
      "execution_count": null,
      "outputs": []
    },
    {
      "cell_type": "code",
      "source": [
        "v1+v2"
      ],
      "metadata": {
        "colab": {
          "base_uri": "https://localhost:8080/"
        },
        "id": "EO1sPcjASZ1W",
        "outputId": "8fed13f5-9a3b-4f48-9d3a-ecbd66a16d18"
      },
      "execution_count": null,
      "outputs": [
        {
          "output_type": "execute_result",
          "data": {
            "text/plain": [
              "array([ 6,  6,  5, 10])"
            ]
          },
          "metadata": {},
          "execution_count": 65
        }
      ]
    },
    {
      "cell_type": "code",
      "source": [
        "# Python Lists vs ndarrays\n",
        "list1 = [4, 5, 2, 7]\n",
        "list2 = [2, 1, 3, 3]\n",
        "list1 + list2"
      ],
      "metadata": {
        "colab": {
          "base_uri": "https://localhost:8080/"
        },
        "id": "XgPurfFWSa8-",
        "outputId": "ab384f73-6527-46d1-fcfc-01fabce04e2a"
      },
      "execution_count": null,
      "outputs": [
        {
          "output_type": "execute_result",
          "data": {
            "text/plain": [
              "[4, 5, 2, 7, 2, 1, 3, 3]"
            ]
          },
          "metadata": {},
          "execution_count": 66
        }
      ]
    },
    {
      "cell_type": "code",
      "source": [
        "v1 * v2"
      ],
      "metadata": {
        "colab": {
          "base_uri": "https://localhost:8080/"
        },
        "id": "wFcATjBSSgA2",
        "outputId": "d4c59854-8706-4fe2-9a8c-cd72cd51d67f"
      },
      "execution_count": null,
      "outputs": [
        {
          "output_type": "execute_result",
          "data": {
            "text/plain": [
              "array([ 8,  5,  6, 21])"
            ]
          },
          "metadata": {},
          "execution_count": 67
        }
      ]
    },
    {
      "cell_type": "markdown",
      "source": [
        "# Broadcasting and Scalars\n"
      ],
      "metadata": {
        "id": "yF4TvSGuSlMm"
      }
    },
    {
      "cell_type": "code",
      "source": [
        "array_2d = np.array([[1, 2, 3, 4], \n",
        "                     [5, 6, 7, 8]])\n",
        "print(f'Dimensions: {array_2d.ndim}')\n",
        "print(f'Shape: {array_2d.shape}')"
      ],
      "metadata": {
        "colab": {
          "base_uri": "https://localhost:8080/"
        },
        "id": "XWqg6zglSh1e",
        "outputId": "9433c8d1-0087-4378-87f2-cf3c055bc8a1"
      },
      "execution_count": null,
      "outputs": [
        {
          "output_type": "stream",
          "name": "stdout",
          "text": [
            "Dimensions: 2\n",
            "Shape: (2, 4)\n"
          ]
        }
      ]
    },
    {
      "cell_type": "code",
      "source": [
        "array_2d + 10"
      ],
      "metadata": {
        "colab": {
          "base_uri": "https://localhost:8080/"
        },
        "id": "HdNqe1gcSnnG",
        "outputId": "e7f15602-a821-4e39-8f45-26adcf642e6e"
      },
      "execution_count": null,
      "outputs": [
        {
          "output_type": "execute_result",
          "data": {
            "text/plain": [
              "array([[11, 12, 13, 14],\n",
              "       [15, 16, 17, 18]])"
            ]
          },
          "metadata": {},
          "execution_count": 69
        }
      ]
    },
    {
      "cell_type": "code",
      "source": [
        "array_2d * 5"
      ],
      "metadata": {
        "colab": {
          "base_uri": "https://localhost:8080/"
        },
        "id": "ZNDbGCXfSqw0",
        "outputId": "17d5f61c-87b3-412d-e86c-654e56e870f8"
      },
      "execution_count": null,
      "outputs": [
        {
          "output_type": "execute_result",
          "data": {
            "text/plain": [
              "array([[ 5, 10, 15, 20],\n",
              "       [25, 30, 35, 40]])"
            ]
          },
          "metadata": {},
          "execution_count": 70
        }
      ]
    },
    {
      "cell_type": "markdown",
      "source": [
        "# Matrix Multiplication with @ and .matmul()\n",
        "\n",
        "<img src=https://i.imgur.com/LCdhmi8.png width=350>"
      ],
      "metadata": {
        "id": "P4jU5BJ7Stzt"
      }
    },
    {
      "cell_type": "code",
      "source": [
        "a1 = np.array([[1, 3],\n",
        "               [0, 1],\n",
        "               [6, 2],\n",
        "               [9, 7]])\n",
        "\n",
        "b1 = np.array([[4, 1, 3],\n",
        "               [5, 8, 5]])\n",
        "\n",
        "print(f'{a1.shape}: a has {a1.shape[0]} rows and {a1.shape[1]} columns.')\n",
        "print(f'{b1.shape}: b has {b1.shape[0]} rows and {b1.shape[1]} columns.')\n",
        "print('Dimensions of result: (4x2)*(2x3)=(4x3)')"
      ],
      "metadata": {
        "colab": {
          "base_uri": "https://localhost:8080/"
        },
        "id": "wr2R43oYSsGU",
        "outputId": "d37ee25b-33b2-4038-af43-ba86c55bc3aa"
      },
      "execution_count": null,
      "outputs": [
        {
          "output_type": "stream",
          "name": "stdout",
          "text": [
            "(4, 2): a has 4 rows and 2 columns.\n",
            "(2, 3): b has 2 rows and 3 columns.\n",
            "Dimensions of result: (4x2)*(2x3)=(4x3)\n"
          ]
        }
      ]
    },
    {
      "cell_type": "markdown",
      "source": [
        "**Challenge**: Let's multiply `a1` with `b1`. Looking at the wikipedia example above, work out the values for c12 and c33 on paper. Then use the [`.matmul()`](https://numpy.org/doc/stable/reference/generated/numpy.matmul.html) function or the `@` operator to check your work. "
      ],
      "metadata": {
        "id": "cp0OSNp4S5Ix"
      }
    },
    {
      "cell_type": "code",
      "source": [],
      "metadata": {
        "id": "LNTJqvRMSxQE"
      },
      "execution_count": null,
      "outputs": []
    },
    {
      "cell_type": "markdown",
      "source": [
        "# Reshaping Matrix with [.reshape()](https://numpy.org/doc/stable/reference/generated/numpy.reshape.html)"
      ],
      "metadata": {
        "id": "tSRE0pItVdbB"
      }
    },
    {
      "cell_type": "code",
      "source": [
        "a1 = np.array([[1, 3],\n",
        "               [0, 1],\n",
        "               [6, 2],\n",
        "               [9, 7]])"
      ],
      "metadata": {
        "id": "KV3AINYcVp-C"
      },
      "execution_count": null,
      "outputs": []
    },
    {
      "cell_type": "code",
      "source": [],
      "metadata": {
        "id": "1kDRJwEOVybY"
      },
      "execution_count": null,
      "outputs": []
    }
  ]
}